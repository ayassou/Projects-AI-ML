{
  "nbformat": 4,
  "nbformat_minor": 0,
  "metadata": {
    "colab": {
      "provenance": [],
      "authorship_tag": "ABX9TyNYz/3+igYV8FbjKAJYwrfc",
      "include_colab_link": true
    },
    "kernelspec": {
      "name": "python3",
      "display_name": "Python 3"
    },
    "language_info": {
      "name": "python"
    }
  },
  "cells": [
    {
      "cell_type": "markdown",
      "metadata": {
        "id": "view-in-github",
        "colab_type": "text"
      },
      "source": [
        "<a href=\"https://colab.research.google.com/github/ayassou/Projects-AI-ML/blob/main/CNN_with_Keras.ipynb\" target=\"_parent\"><img src=\"https://colab.research.google.com/assets/colab-badge.svg\" alt=\"Open In Colab\"/></a>"
      ]
    },
    {
      "cell_type": "markdown",
      "source": [
        "# Convolutional Neural Networks with Keras"
      ],
      "metadata": {
        "id": "DyASZR2S9kP4"
      }
    },
    {
      "cell_type": "code",
      "execution_count": null,
      "metadata": {
        "id": "O5-uCXzJ9g9E"
      },
      "outputs": [],
      "source": [
        "import keras\n",
        "from keras.models import Sequential\n",
        "from keras.layers import Dense\n",
        "from keras.utils import to_categorical"
      ]
    },
    {
      "cell_type": "code",
      "source": [
        "from keras.layers.convolutional import Conv2D # to add convolutional layers\n",
        "from keras.layers.convolutional import MaxPooling2D # to add pooling layers\n",
        "from keras.layers import Flatten # to flatten data for fully connected layers"
      ],
      "metadata": {
        "id": "KXY5O8rG9xuH"
      },
      "execution_count": null,
      "outputs": []
    },
    {
      "cell_type": "markdown",
      "source": [
        "## Convolutional Layer with One set of convolutional and pooling layers"
      ],
      "metadata": {
        "id": "VvqAhvO590gv"
      }
    },
    {
      "cell_type": "code",
      "source": [
        "# import data\n",
        "from keras.datasets import mnist\n",
        "\n",
        "# load data\n",
        "(X_train, y_train), (X_test, y_test) = mnist.load_data()\n",
        "\n",
        "# reshape to be [samples][pixels][width][height]\n",
        "X_train = X_train.reshape(X_train.shape[0], 28, 28, 1).astype('float32')\n",
        "X_test = X_test.reshape(X_test.shape[0], 28, 28, 1).astype('float32')"
      ],
      "metadata": {
        "colab": {
          "base_uri": "https://localhost:8080/"
        },
        "id": "FEyyZRXl92qn",
        "outputId": "d778232c-29c4-48ea-cc56-eb6b0b44a3db"
      },
      "execution_count": null,
      "outputs": [
        {
          "output_type": "stream",
          "name": "stdout",
          "text": [
            "Downloading data from https://storage.googleapis.com/tensorflow/tf-keras-datasets/mnist.npz\n",
            "11490434/11490434 [==============================] - 0s 0us/step\n"
          ]
        }
      ]
    },
    {
      "cell_type": "markdown",
      "source": [
        "Let's normalize the pixel values to be between 0 and 1"
      ],
      "metadata": {
        "id": "RFOha1IO95X3"
      }
    },
    {
      "cell_type": "code",
      "source": [
        "X_train = X_train / 255 # normalize training data\n",
        "X_test = X_test / 255 # normalize test data"
      ],
      "metadata": {
        "id": "VFyLyFfL964Y"
      },
      "execution_count": null,
      "outputs": []
    },
    {
      "cell_type": "markdown",
      "source": [
        "Next, let's convert the target variable into binary categories"
      ],
      "metadata": {
        "id": "MsrmTODa99xT"
      }
    },
    {
      "cell_type": "code",
      "source": [
        "y_train = to_categorical(y_train)\n",
        "y_test = to_categorical(y_test)\n",
        "\n",
        "num_classes = y_test.shape[1] # number of categories"
      ],
      "metadata": {
        "id": "zqnxA9MZ9-Nn"
      },
      "execution_count": null,
      "outputs": []
    },
    {
      "cell_type": "markdown",
      "source": [
        "Next, let's define a function that creates our model. Let's start with one set of convolutional and pooling layers"
      ],
      "metadata": {
        "id": "0ar_6RIH-H9M"
      }
    },
    {
      "cell_type": "code",
      "source": [
        "def convolutional_model():\n",
        "\n",
        "    # create model\n",
        "    model = Sequential()\n",
        "    model.add(Conv2D(16, (5, 5), strides=(1, 1), activation='relu', input_shape=(28, 28, 1)))\n",
        "    model.add(MaxPooling2D(pool_size=(2, 2), strides=(2, 2)))\n",
        "\n",
        "    model.add(Flatten())\n",
        "    model.add(Dense(100, activation='relu'))\n",
        "    model.add(Dense(num_classes, activation='softmax'))\n",
        "\n",
        "    # compile model\n",
        "    model.compile(optimizer='adam', loss='categorical_crossentropy',  metrics=['accuracy'])\n",
        "    return model"
      ],
      "metadata": {
        "id": "IfZRQch4-JYc"
      },
      "execution_count": null,
      "outputs": []
    },
    {
      "cell_type": "code",
      "source": [
        "# build the model\n",
        "model = convolutional_model()\n",
        "\n",
        "# fit the model\n",
        "model.fit(X_train, y_train, validation_data=(X_test, y_test), epochs=10, batch_size=200, verbose=2)\n",
        "\n",
        "# evaluate the model\n",
        "scores = model.evaluate(X_test, y_test, verbose=0)\n",
        "print(\"Accuracy: {} \\n Error: {}\".format(scores[1], 100-scores[1]*100))"
      ],
      "metadata": {
        "colab": {
          "base_uri": "https://localhost:8080/"
        },
        "id": "rszin-Ro-aI-",
        "outputId": "e4eb70ae-eaf1-4e80-c68a-395661f5cbb1"
      },
      "execution_count": null,
      "outputs": [
        {
          "output_type": "stream",
          "name": "stdout",
          "text": [
            "Epoch 1/10\n",
            "300/300 - 24s - loss: 0.2869 - accuracy: 0.9194 - val_loss: 0.1036 - val_accuracy: 0.9697 - 24s/epoch - 81ms/step\n",
            "Epoch 2/10\n",
            "300/300 - 26s - loss: 0.0837 - accuracy: 0.9758 - val_loss: 0.0602 - val_accuracy: 0.9816 - 26s/epoch - 85ms/step\n",
            "Epoch 3/10\n",
            "300/300 - 25s - loss: 0.0576 - accuracy: 0.9832 - val_loss: 0.0486 - val_accuracy: 0.9842 - 25s/epoch - 84ms/step\n",
            "Epoch 4/10\n",
            "300/300 - 28s - loss: 0.0450 - accuracy: 0.9864 - val_loss: 0.0466 - val_accuracy: 0.9859 - 28s/epoch - 95ms/step\n",
            "Epoch 5/10\n",
            "300/300 - 22s - loss: 0.0359 - accuracy: 0.9890 - val_loss: 0.0424 - val_accuracy: 0.9862 - 22s/epoch - 72ms/step\n",
            "Epoch 6/10\n",
            "300/300 - 22s - loss: 0.0295 - accuracy: 0.9909 - val_loss: 0.0391 - val_accuracy: 0.9875 - 22s/epoch - 75ms/step\n",
            "Epoch 7/10\n",
            "300/300 - 23s - loss: 0.0250 - accuracy: 0.9923 - val_loss: 0.0400 - val_accuracy: 0.9863 - 23s/epoch - 76ms/step\n",
            "Epoch 8/10\n",
            "300/300 - 25s - loss: 0.0204 - accuracy: 0.9939 - val_loss: 0.0388 - val_accuracy: 0.9883 - 25s/epoch - 82ms/step\n",
            "Epoch 9/10\n",
            "300/300 - 22s - loss: 0.0166 - accuracy: 0.9951 - val_loss: 0.0427 - val_accuracy: 0.9861 - 22s/epoch - 75ms/step\n",
            "Epoch 10/10\n",
            "300/300 - 22s - loss: 0.0151 - accuracy: 0.9954 - val_loss: 0.0421 - val_accuracy: 0.9862 - 22s/epoch - 73ms/step\n",
            "Accuracy: 0.9861999750137329 \n",
            " Error: 1.380002498626709\n"
          ]
        }
      ]
    },
    {
      "cell_type": "markdown",
      "source": [
        "## Convolutional Layer with two sets of convolutional and pooling layers"
      ],
      "metadata": {
        "id": "HSBJCQsh-hbW"
      }
    },
    {
      "cell_type": "code",
      "source": [
        "def convolutional_model():\n",
        "\n",
        "    # create model\n",
        "    model = Sequential()\n",
        "    model.add(Conv2D(16, (5, 5), activation='relu', input_shape=(28, 28, 1)))\n",
        "    model.add(MaxPooling2D(pool_size=(2, 2), strides=(2, 2)))\n",
        "\n",
        "    model.add(Conv2D(8, (2, 2), activation='relu'))\n",
        "    model.add(MaxPooling2D(pool_size=(2, 2), strides=(2, 2)))\n",
        "\n",
        "    model.add(Flatten())\n",
        "    model.add(Dense(100, activation='relu'))\n",
        "    model.add(Dense(num_classes, activation='softmax'))\n",
        "\n",
        "    # Compile model\n",
        "    model.compile(optimizer='adam', loss='categorical_crossentropy',  metrics=['accuracy'])\n",
        "    return model"
      ],
      "metadata": {
        "id": "SAC6BDRo-kA0"
      },
      "execution_count": null,
      "outputs": []
    },
    {
      "cell_type": "code",
      "source": [
        "# build the model\n",
        "model = convolutional_model()\n",
        "\n",
        "# fit the model\n",
        "model.fit(X_train, y_train, validation_data=(X_test, y_test), epochs=10, batch_size=200, verbose=2)\n",
        "\n",
        "# evaluate the model\n",
        "scores = model.evaluate(X_test, y_test, verbose=0)\n",
        "print(\"Accuracy: {} \\n Error: {}\".format(scores[1], 100-scores[1]*100))"
      ],
      "metadata": {
        "id": "2ruCDY6r-neM"
      },
      "execution_count": null,
      "outputs": []
    }
  ]
}