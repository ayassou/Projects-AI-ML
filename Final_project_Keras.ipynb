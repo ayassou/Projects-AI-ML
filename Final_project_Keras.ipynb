{
  "nbformat": 4,
  "nbformat_minor": 0,
  "metadata": {
    "colab": {
      "provenance": [],
      "authorship_tag": "ABX9TyOS6I20ZBU7AXlDQrj6elmS",
      "include_colab_link": true
    },
    "kernelspec": {
      "name": "python3",
      "display_name": "Python 3"
    },
    "language_info": {
      "name": "python"
    }
  },
  "cells": [
    {
      "cell_type": "markdown",
      "metadata": {
        "id": "view-in-github",
        "colab_type": "text"
      },
      "source": [
        "<a href=\"https://colab.research.google.com/github/ayassou/Coursera-Projects/blob/main/Final_project_Keras.ipynb\" target=\"_parent\"><img src=\"https://colab.research.google.com/assets/colab-badge.svg\" alt=\"Open In Colab\"/></a>"
      ]
    },
    {
      "cell_type": "code",
      "execution_count": null,
      "metadata": {
        "id": "hStVb9yUCi9h"
      },
      "outputs": [],
      "source": [
        "import numpy as np\n",
        "import pandas as pd\n",
        "from sklearn.model_selection import train_test_split\n",
        "from sklearn.metrics import mean_squared_error\n",
        "from keras.models import Sequential\n",
        "from keras.layers import Dense\n",
        "from keras.optimizers import Adam\n"
      ]
    },
    {
      "cell_type": "markdown",
      "source": [
        "# Part A"
      ],
      "metadata": {
        "id": "w1KySMheMy4f"
      }
    },
    {
      "cell_type": "code",
      "source": [
        "# X = your data, y = your target\n",
        "raw_data = pd.read_csv('https://s3-api.us-geo.objectstorage.softlayer.net/cf-courses-data/CognitiveClass/DL0101EN/labs/data/concrete_data.csv')\n",
        "\n",
        "raw_data_columns = raw_data.columns\n",
        "\n",
        "X = raw_data[raw_data_columns[raw_data_columns != 'Strength']] # all columns except Strength\n",
        "y = raw_data['Strength'] # Strength column\n",
        "# Step 1: Randomly split the data into a training and test sets\n",
        "X_train, X_test, y_train, y_test = train_test_split(X, y, test_size=0.3, random_state=42)\n",
        "\n"
      ],
      "metadata": {
        "id": "w8DhCJOnC3Lr"
      },
      "execution_count": null,
      "outputs": []
    },
    {
      "cell_type": "code",
      "source": [
        "# Initialize the list to store mean squared errors\n",
        "mse_list = []\n",
        "\n",
        "# Step 4: Repeat the process 50 times\n",
        "for _ in range(50):\n",
        "    # Step 2: Build and train the model\n",
        "    model = Sequential([\n",
        "        Dense(10, activation='relu', input_shape=(X_train.shape[1],)),\n",
        "        Dense(1)\n",
        "    ])\n",
        "\n",
        "    model.compile(optimizer='adam', loss='mean_squared_error')\n",
        "    model.fit(X_train, y_train, epochs=50, verbose=0)\n",
        "\n",
        "    # Step 3: Evaluate the model and calculate mean squared error\n",
        "    y_pred = model.predict(X_test)\n",
        "    mse = mean_squared_error(y_test, y_pred)\n",
        "    mse_list.append(mse)\n",
        "\n",
        "# Step 5: Calculate and report the mean and std of mean squared errors\n",
        "mean_mse = np.mean(mse_list)\n",
        "std_mse = np.std(mse_list)\n",
        "\n",
        "print(\"Mean of Mean Squared Errors:\", mean_mse)\n",
        "print(\"Standard Deviation of Mean Squared Errors:\", std_mse)\n"
      ],
      "metadata": {
        "id": "gNBShfLYC_B6"
      },
      "execution_count": null,
      "outputs": []
    },
    {
      "cell_type": "markdown",
      "source": [
        "Creating a function to create my model and a function to train and evaluating it"
      ],
      "metadata": {
        "id": "BTfZzTm9GC4B"
      }
    },
    {
      "cell_type": "code",
      "source": [
        "def create_regression_model(input_shape):\n",
        "    model = Sequential([\n",
        "        Dense(10, activation='relu', input_shape=input_shape),\n",
        "        Dense(1)\n",
        "    ])\n",
        "    model.compile(optimizer='adam', loss='mean_squared_error')\n",
        "    return model\n",
        "\n",
        "def train_and_evaluate_model(model, X_train, y_train, X_test, y_test, epochs):\n",
        "    model.fit(X_train, y_train, epochs=epochs, verbose=0)\n",
        "    y_pred = model.predict(X_test)\n",
        "    mse = mean_squared_error(y_test, y_pred)\n",
        "    return mse\n"
      ],
      "metadata": {
        "id": "j5bn2ZXTGB-g"
      },
      "execution_count": null,
      "outputs": []
    },
    {
      "cell_type": "markdown",
      "source": [
        "Training and evaluating my model"
      ],
      "metadata": {
        "id": "qoksuaaQGczP"
      }
    },
    {
      "cell_type": "code",
      "source": [
        "# Assuming X_train, y_train, X_test, y_test are already defined\n",
        "input_shape = (X_train.shape[1],)\n",
        "\n",
        "# Initialize the list to store mean squared errors\n",
        "mse_list = []\n",
        "\n",
        "# Step 4: Repeat the process 50 times\n",
        "for _ in range(50):\n",
        "  model = create_regression_model(input_shape)\n",
        "  mse = train_and_evaluate_model(model, X_train, y_train, X_test, y_test, 50)\n",
        "  mse_list.append(mse)\n",
        "\n",
        "# print(\"Mean Squared Error:\", mse)"
      ],
      "metadata": {
        "id": "hxujUs7dGcGa"
      },
      "execution_count": null,
      "outputs": []
    },
    {
      "cell_type": "code",
      "source": [
        "# Step 5: Calculate and report the mean and std of mean squared errors\n",
        "mean_mse = np.mean(mse_list)\n",
        "std_mse = np.std(mse_list)\n",
        "\n",
        "print(\"Mean of Mean Squared Errors:\", mean_mse)\n",
        "print(\"Standard Deviation of Mean Squared Errors:\", std_mse)"
      ],
      "metadata": {
        "colab": {
          "base_uri": "https://localhost:8080/"
        },
        "id": "NV8BLZMwHKYc",
        "outputId": "1638cfa8-373d-41e6-9be4-c2af76b67708"
      },
      "execution_count": null,
      "outputs": [
        {
          "output_type": "stream",
          "name": "stdout",
          "text": [
            "Mean of Mean Squared Errors: 327.5725194619922\n",
            "Standard Deviation of Mean Squared Errors: 418.97116131335963\n"
          ]
        }
      ]
    },
    {
      "cell_type": "markdown",
      "source": [
        "# Part B"
      ],
      "metadata": {
        "id": "8LheC7wSM2lX"
      }
    },
    {
      "cell_type": "markdown",
      "source": [
        "Doing the same steps but with a normalized version of my data"
      ],
      "metadata": {
        "id": "F0BYT0lDE7mi"
      }
    },
    {
      "cell_type": "code",
      "source": [
        "# Step 1: Randomly split the data into a training and test sets but this time with a normalized version of our data\n",
        "X_norm = (X - X.mean()) / X.std()\n",
        "X_train, X_test, y_train, y_test = train_test_split(X_norm, y, test_size=0.3, random_state=42)\n"
      ],
      "metadata": {
        "id": "cJfVLUaaE1e0"
      },
      "execution_count": null,
      "outputs": []
    },
    {
      "cell_type": "code",
      "source": [
        "# Assuming X_train, y_train, X_test, y_test are already defined\n",
        "input_shape = (X_train.shape[1],)\n",
        "\n",
        "# Initialize the list to store mean squared errors\n",
        "mse_list = []\n",
        "\n",
        "# Step 4: Repeat the process 50 times\n",
        "for _ in range(50):\n",
        "  model = create_regression_model(input_shape)\n",
        "  mse = train_and_evaluate_model(model, X_train, y_train, X_test, y_test, 50)\n",
        "  mse_list.append(mse)"
      ],
      "metadata": {
        "id": "tx4uWSlTHWfI"
      },
      "execution_count": null,
      "outputs": []
    },
    {
      "cell_type": "code",
      "source": [
        "# Step 5: Calculate and report the mean and std of mean squared errors\n",
        "norm_mean_mse = np.mean(mse_list)\n",
        "norm_std_mse = np.std(mse_list)\n",
        "\n",
        "print(\"Mean of Mean Squared Errors:\", norm_mean_mse)\n",
        "print(\"Standard Deviation of Mean Squared Errors:\", norm_std_mse)"
      ],
      "metadata": {
        "colab": {
          "base_uri": "https://localhost:8080/"
        },
        "id": "JfqXbz9QH6lx",
        "outputId": "2eb701df-61c0-4305-c24a-8434ad6f6f36"
      },
      "execution_count": null,
      "outputs": [
        {
          "output_type": "stream",
          "name": "stdout",
          "text": [
            "Mean of Mean Squared Errors: 348.9986377861753\n",
            "Standard Deviation of Mean Squared Errors: 90.60448287051337\n"
          ]
        }
      ]
    },
    {
      "cell_type": "markdown",
      "source": [
        "# Part C"
      ],
      "metadata": {
        "id": "FMAI5zK5M5L9"
      }
    },
    {
      "cell_type": "markdown",
      "source": [
        "Doing the same thing but this time with 100 epochs"
      ],
      "metadata": {
        "id": "5BaCbL5dJktg"
      }
    },
    {
      "cell_type": "code",
      "source": [
        "# Assuming X_train, y_train, X_test, y_test are already defined\n",
        "input_shape = (X_train.shape[1],)\n",
        "\n",
        "# Initialize the list to store mean squared errors\n",
        "mse_list = []\n",
        "\n",
        "# Step 4: Repeat the process 50 times\n",
        "for _ in range(50):\n",
        "  model = create_regression_model(input_shape)\n",
        "  mse = train_and_evaluate_model(model, X_train, y_train, X_test, y_test, 100)\n",
        "  mse_list.append(mse)"
      ],
      "metadata": {
        "id": "lQjgdKYtJo8g"
      },
      "execution_count": null,
      "outputs": []
    },
    {
      "cell_type": "code",
      "source": [
        "# Step 5: Calculate and report the mean and std of mean squared errors\n",
        "norm_mean_mse_100 = np.mean(mse_list)\n",
        "norm_std_mse_100 = np.std(mse_list)\n",
        "\n",
        "print(\"Mean of Mean Squared Errors:\", norm_mean_mse_100)\n",
        "print(\"Standard Deviation of Mean Squared Errors:\", norm_std_mse_100)"
      ],
      "metadata": {
        "colab": {
          "base_uri": "https://localhost:8080/"
        },
        "id": "FMqM_ufgJyGJ",
        "outputId": "e05cf7e5-fcf4-42f5-eb6d-5b0f6be09508"
      },
      "execution_count": null,
      "outputs": [
        {
          "output_type": "stream",
          "name": "stdout",
          "text": [
            "Mean of Mean Squared Errors: 156.18115889590916\n",
            "Standard Deviation of Mean Squared Errors: 12.051361834831729\n"
          ]
        }
      ]
    },
    {
      "cell_type": "markdown",
      "source": [
        "# Part D"
      ],
      "metadata": {
        "id": "LkJkSW-wM65v"
      }
    },
    {
      "cell_type": "markdown",
      "source": [
        "We will change a little bit our model with 03 hidden layers instead"
      ],
      "metadata": {
        "id": "MjMThX55KVLm"
      }
    },
    {
      "cell_type": "code",
      "source": [
        "def regression_model(input_shape):\n",
        "    model = Sequential([\n",
        "        Dense(10, activation='relu', input_shape=input_shape),\n",
        "        Dense(10, activation='relu'),\n",
        "        Dense(10, activation='relu'),\n",
        "        Dense(1)\n",
        "    ])\n",
        "    model.compile(optimizer='adam', loss='mean_squared_error')\n",
        "    return model"
      ],
      "metadata": {
        "id": "bGycaOKRKcHA"
      },
      "execution_count": null,
      "outputs": []
    },
    {
      "cell_type": "code",
      "source": [
        "# Assuming X_train, y_train, X_test, y_test are already defined\n",
        "input_shape = (X_train.shape[1],)\n",
        "\n",
        "# Initialize the list to store mean squared errors\n",
        "mse_list = []\n",
        "\n",
        "# Step 4: Repeat the process 50 times\n",
        "for _ in range(50):\n",
        "  model = regression_model(input_shape)\n",
        "  mse = train_and_evaluate_model(model, X_train, y_train, X_test, y_test, 100)\n",
        "  mse_list.append(mse)"
      ],
      "metadata": {
        "id": "znrgwBUfKhCz"
      },
      "execution_count": null,
      "outputs": []
    },
    {
      "cell_type": "code",
      "source": [
        "# Step 5: Calculate and report the mean and std of mean squared errors\n",
        "norm_mean_mse_nmodel = np.mean(mse_list)\n",
        "norm_std_mse_nmodel = np.std(mse_list)\n",
        "\n",
        "print(\"Mean of Mean Squared Errors:\", norm_mean_mse_nmodel)\n",
        "print(\"Standard Deviation of Mean Squared Errors:\", norm_std_mse_nmodel)"
      ],
      "metadata": {
        "colab": {
          "base_uri": "https://localhost:8080/"
        },
        "id": "5_OhNkbZKw6L",
        "outputId": "9573316d-a9ff-4edf-f0bf-3cf57935c715"
      },
      "execution_count": null,
      "outputs": [
        {
          "output_type": "stream",
          "name": "stdout",
          "text": [
            "Mean of Mean Squared Errors: 87.29693322814514\n",
            "Standard Deviation of Mean Squared Errors: 21.235070844485993\n"
          ]
        }
      ]
    }
  ]
}