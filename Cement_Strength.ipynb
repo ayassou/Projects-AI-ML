{
  "cells": [
    {
      "cell_type": "markdown",
      "metadata": {
        "id": "view-in-github",
        "colab_type": "text"
      },
      "source": [
        "<a href=\"https://colab.research.google.com/github/ayassou/Projects-AI-ML/blob/main/Cement_Strength.ipynb\" target=\"_parent\"><img src=\"https://colab.research.google.com/assets/colab-badge.svg\" alt=\"Open In Colab\"/></a>"
      ]
    },
    {
      "cell_type": "code",
      "execution_count": null,
      "id": "9719eee0-533a-4821-bb97-47960249c6fc",
      "metadata": {
        "id": "9719eee0-533a-4821-bb97-47960249c6fc",
        "outputId": "a4f1def2-160c-46fa-e881-b1d5efe61d4e"
      },
      "outputs": [
        {
          "data": {
            "text/plain": [
              "5"
            ]
          },
          "execution_count": 1,
          "metadata": {},
          "output_type": "execute_result"
        }
      ],
      "source": [
        "2+3"
      ]
    },
    {
      "cell_type": "code",
      "execution_count": null,
      "id": "b8b7986d-d39c-4d14-abb4-9179664dbf9a",
      "metadata": {
        "id": "b8b7986d-d39c-4d14-abb4-9179664dbf9a"
      },
      "outputs": [],
      "source": [
        "import keras"
      ]
    },
    {
      "cell_type": "code",
      "execution_count": null,
      "id": "6b3f990c-f80e-41ce-a34a-177b3f76fb25",
      "metadata": {
        "id": "6b3f990c-f80e-41ce-a34a-177b3f76fb25"
      },
      "outputs": [],
      "source": [
        "import tensorflow as tf"
      ]
    },
    {
      "cell_type": "code",
      "execution_count": null,
      "id": "f8a483ca-a3c2-4510-aa9a-aba1fa16f3c4",
      "metadata": {
        "id": "f8a483ca-a3c2-4510-aa9a-aba1fa16f3c4"
      },
      "outputs": [],
      "source": [
        "import numpy as np"
      ]
    },
    {
      "cell_type": "code",
      "execution_count": null,
      "id": "94a2c7db-9c65-4669-9f51-933f27475c5f",
      "metadata": {
        "id": "94a2c7db-9c65-4669-9f51-933f27475c5f"
      },
      "outputs": [],
      "source": [
        "import pandas as pd"
      ]
    },
    {
      "cell_type": "code",
      "execution_count": null,
      "id": "0a448f88-8691-450a-a594-d2f3c7e8de97",
      "metadata": {
        "id": "0a448f88-8691-450a-a594-d2f3c7e8de97"
      },
      "outputs": [],
      "source": [
        "import numpy as np"
      ]
    },
    {
      "cell_type": "code",
      "execution_count": null,
      "id": "a028a5b7-75f3-4cd1-a883-8c61f7591a66",
      "metadata": {
        "id": "a028a5b7-75f3-4cd1-a883-8c61f7591a66"
      },
      "outputs": [],
      "source": [
        "from keras.models import Sequential"
      ]
    },
    {
      "cell_type": "code",
      "execution_count": null,
      "id": "5099bdb0-f88a-4cfc-a9ff-4ae1990390fa",
      "metadata": {
        "id": "5099bdb0-f88a-4cfc-a9ff-4ae1990390fa"
      },
      "outputs": [],
      "source": [
        "from keras.layers import Dense"
      ]
    },
    {
      "cell_type": "code",
      "execution_count": null,
      "id": "d76c307e-9353-47e6-9252-22667e639afe",
      "metadata": {
        "id": "d76c307e-9353-47e6-9252-22667e639afe"
      },
      "outputs": [],
      "source": [
        "from sklearn.model_selection import train_test_split"
      ]
    },
    {
      "cell_type": "code",
      "execution_count": null,
      "id": "b08b6dbf-7e75-4495-b5f7-d40cfe156f32",
      "metadata": {
        "id": "b08b6dbf-7e75-4495-b5f7-d40cfe156f32"
      },
      "outputs": [],
      "source": [
        "cement = pd.read_csv(\"C:\\\\Users\\\\Raj Chauhan\\\\OneDrive\\\\Desktop\\\\UNIT-5 Keras\\\\concrete_data.csv\")"
      ]
    },
    {
      "cell_type": "code",
      "execution_count": null,
      "id": "11b24863-1dcf-4aa5-a559-9376b43fdefb",
      "metadata": {
        "id": "11b24863-1dcf-4aa5-a559-9376b43fdefb",
        "outputId": "d9127c4b-8c22-43d1-a4a7-03e22eb903d1"
      },
      "outputs": [
        {
          "data": {
            "text/html": [
              "<div>\n",
              "<style scoped>\n",
              "    .dataframe tbody tr th:only-of-type {\n",
              "        vertical-align: middle;\n",
              "    }\n",
              "\n",
              "    .dataframe tbody tr th {\n",
              "        vertical-align: top;\n",
              "    }\n",
              "\n",
              "    .dataframe thead th {\n",
              "        text-align: right;\n",
              "    }\n",
              "</style>\n",
              "<table border=\"1\" class=\"dataframe\">\n",
              "  <thead>\n",
              "    <tr style=\"text-align: right;\">\n",
              "      <th></th>\n",
              "      <th>Cement</th>\n",
              "      <th>Blast Furnace Slag</th>\n",
              "      <th>Fly Ash</th>\n",
              "      <th>Water</th>\n",
              "      <th>Superplasticizer</th>\n",
              "      <th>Coarse Aggregate</th>\n",
              "      <th>Fine Aggregate</th>\n",
              "      <th>Age</th>\n",
              "      <th>Strength</th>\n",
              "    </tr>\n",
              "  </thead>\n",
              "  <tbody>\n",
              "    <tr>\n",
              "      <th>0</th>\n",
              "      <td>540.0</td>\n",
              "      <td>0.0</td>\n",
              "      <td>0.0</td>\n",
              "      <td>162.0</td>\n",
              "      <td>2.5</td>\n",
              "      <td>1040.0</td>\n",
              "      <td>676.0</td>\n",
              "      <td>28</td>\n",
              "      <td>79.99</td>\n",
              "    </tr>\n",
              "    <tr>\n",
              "      <th>1</th>\n",
              "      <td>540.0</td>\n",
              "      <td>0.0</td>\n",
              "      <td>0.0</td>\n",
              "      <td>162.0</td>\n",
              "      <td>2.5</td>\n",
              "      <td>1055.0</td>\n",
              "      <td>676.0</td>\n",
              "      <td>28</td>\n",
              "      <td>61.89</td>\n",
              "    </tr>\n",
              "    <tr>\n",
              "      <th>2</th>\n",
              "      <td>332.5</td>\n",
              "      <td>142.5</td>\n",
              "      <td>0.0</td>\n",
              "      <td>228.0</td>\n",
              "      <td>0.0</td>\n",
              "      <td>932.0</td>\n",
              "      <td>594.0</td>\n",
              "      <td>270</td>\n",
              "      <td>40.27</td>\n",
              "    </tr>\n",
              "    <tr>\n",
              "      <th>3</th>\n",
              "      <td>332.5</td>\n",
              "      <td>142.5</td>\n",
              "      <td>0.0</td>\n",
              "      <td>228.0</td>\n",
              "      <td>0.0</td>\n",
              "      <td>932.0</td>\n",
              "      <td>594.0</td>\n",
              "      <td>365</td>\n",
              "      <td>41.05</td>\n",
              "    </tr>\n",
              "    <tr>\n",
              "      <th>4</th>\n",
              "      <td>198.6</td>\n",
              "      <td>132.4</td>\n",
              "      <td>0.0</td>\n",
              "      <td>192.0</td>\n",
              "      <td>0.0</td>\n",
              "      <td>978.4</td>\n",
              "      <td>825.5</td>\n",
              "      <td>360</td>\n",
              "      <td>44.30</td>\n",
              "    </tr>\n",
              "  </tbody>\n",
              "</table>\n",
              "</div>"
            ],
            "text/plain": [
              "   Cement  Blast Furnace Slag  Fly Ash  Water  Superplasticizer  \\\n",
              "0   540.0                 0.0      0.0  162.0               2.5   \n",
              "1   540.0                 0.0      0.0  162.0               2.5   \n",
              "2   332.5               142.5      0.0  228.0               0.0   \n",
              "3   332.5               142.5      0.0  228.0               0.0   \n",
              "4   198.6               132.4      0.0  192.0               0.0   \n",
              "\n",
              "   Coarse Aggregate  Fine Aggregate  Age  Strength  \n",
              "0            1040.0           676.0   28     79.99  \n",
              "1            1055.0           676.0   28     61.89  \n",
              "2             932.0           594.0  270     40.27  \n",
              "3             932.0           594.0  365     41.05  \n",
              "4             978.4           825.5  360     44.30  "
            ]
          },
          "execution_count": 16,
          "metadata": {},
          "output_type": "execute_result"
        }
      ],
      "source": [
        "cement.head()"
      ]
    },
    {
      "cell_type": "code",
      "execution_count": null,
      "id": "3321cfbd-6d71-4bea-919a-7121c29eaba3",
      "metadata": {
        "id": "3321cfbd-6d71-4bea-919a-7121c29eaba3",
        "outputId": "960ce05c-08b7-4ff7-8fb3-6378e1490dba"
      },
      "outputs": [
        {
          "data": {
            "text/html": [
              "<div>\n",
              "<style scoped>\n",
              "    .dataframe tbody tr th:only-of-type {\n",
              "        vertical-align: middle;\n",
              "    }\n",
              "\n",
              "    .dataframe tbody tr th {\n",
              "        vertical-align: top;\n",
              "    }\n",
              "\n",
              "    .dataframe thead th {\n",
              "        text-align: right;\n",
              "    }\n",
              "</style>\n",
              "<table border=\"1\" class=\"dataframe\">\n",
              "  <thead>\n",
              "    <tr style=\"text-align: right;\">\n",
              "      <th></th>\n",
              "      <th>Cement</th>\n",
              "      <th>Blast Furnace Slag</th>\n",
              "      <th>Fly Ash</th>\n",
              "      <th>Water</th>\n",
              "      <th>Superplasticizer</th>\n",
              "      <th>Coarse Aggregate</th>\n",
              "      <th>Fine Aggregate</th>\n",
              "      <th>Age</th>\n",
              "      <th>Strength</th>\n",
              "    </tr>\n",
              "  </thead>\n",
              "  <tbody>\n",
              "    <tr>\n",
              "      <th>count</th>\n",
              "      <td>1030.000000</td>\n",
              "      <td>1030.000000</td>\n",
              "      <td>1030.000000</td>\n",
              "      <td>1030.000000</td>\n",
              "      <td>1030.000000</td>\n",
              "      <td>1030.000000</td>\n",
              "      <td>1030.000000</td>\n",
              "      <td>1030.000000</td>\n",
              "      <td>1030.000000</td>\n",
              "    </tr>\n",
              "    <tr>\n",
              "      <th>mean</th>\n",
              "      <td>281.167864</td>\n",
              "      <td>73.895825</td>\n",
              "      <td>54.188350</td>\n",
              "      <td>181.567282</td>\n",
              "      <td>6.204660</td>\n",
              "      <td>972.918932</td>\n",
              "      <td>773.580485</td>\n",
              "      <td>45.662136</td>\n",
              "      <td>35.817961</td>\n",
              "    </tr>\n",
              "    <tr>\n",
              "      <th>std</th>\n",
              "      <td>104.506364</td>\n",
              "      <td>86.279342</td>\n",
              "      <td>63.997004</td>\n",
              "      <td>21.354219</td>\n",
              "      <td>5.973841</td>\n",
              "      <td>77.753954</td>\n",
              "      <td>80.175980</td>\n",
              "      <td>63.169912</td>\n",
              "      <td>16.705742</td>\n",
              "    </tr>\n",
              "    <tr>\n",
              "      <th>min</th>\n",
              "      <td>102.000000</td>\n",
              "      <td>0.000000</td>\n",
              "      <td>0.000000</td>\n",
              "      <td>121.800000</td>\n",
              "      <td>0.000000</td>\n",
              "      <td>801.000000</td>\n",
              "      <td>594.000000</td>\n",
              "      <td>1.000000</td>\n",
              "      <td>2.330000</td>\n",
              "    </tr>\n",
              "    <tr>\n",
              "      <th>25%</th>\n",
              "      <td>192.375000</td>\n",
              "      <td>0.000000</td>\n",
              "      <td>0.000000</td>\n",
              "      <td>164.900000</td>\n",
              "      <td>0.000000</td>\n",
              "      <td>932.000000</td>\n",
              "      <td>730.950000</td>\n",
              "      <td>7.000000</td>\n",
              "      <td>23.710000</td>\n",
              "    </tr>\n",
              "    <tr>\n",
              "      <th>50%</th>\n",
              "      <td>272.900000</td>\n",
              "      <td>22.000000</td>\n",
              "      <td>0.000000</td>\n",
              "      <td>185.000000</td>\n",
              "      <td>6.400000</td>\n",
              "      <td>968.000000</td>\n",
              "      <td>779.500000</td>\n",
              "      <td>28.000000</td>\n",
              "      <td>34.445000</td>\n",
              "    </tr>\n",
              "    <tr>\n",
              "      <th>75%</th>\n",
              "      <td>350.000000</td>\n",
              "      <td>142.950000</td>\n",
              "      <td>118.300000</td>\n",
              "      <td>192.000000</td>\n",
              "      <td>10.200000</td>\n",
              "      <td>1029.400000</td>\n",
              "      <td>824.000000</td>\n",
              "      <td>56.000000</td>\n",
              "      <td>46.135000</td>\n",
              "    </tr>\n",
              "    <tr>\n",
              "      <th>max</th>\n",
              "      <td>540.000000</td>\n",
              "      <td>359.400000</td>\n",
              "      <td>200.100000</td>\n",
              "      <td>247.000000</td>\n",
              "      <td>32.200000</td>\n",
              "      <td>1145.000000</td>\n",
              "      <td>992.600000</td>\n",
              "      <td>365.000000</td>\n",
              "      <td>82.600000</td>\n",
              "    </tr>\n",
              "  </tbody>\n",
              "</table>\n",
              "</div>"
            ],
            "text/plain": [
              "            Cement  Blast Furnace Slag      Fly Ash        Water  \\\n",
              "count  1030.000000         1030.000000  1030.000000  1030.000000   \n",
              "mean    281.167864           73.895825    54.188350   181.567282   \n",
              "std     104.506364           86.279342    63.997004    21.354219   \n",
              "min     102.000000            0.000000     0.000000   121.800000   \n",
              "25%     192.375000            0.000000     0.000000   164.900000   \n",
              "50%     272.900000           22.000000     0.000000   185.000000   \n",
              "75%     350.000000          142.950000   118.300000   192.000000   \n",
              "max     540.000000          359.400000   200.100000   247.000000   \n",
              "\n",
              "       Superplasticizer  Coarse Aggregate  Fine Aggregate          Age  \\\n",
              "count       1030.000000       1030.000000     1030.000000  1030.000000   \n",
              "mean           6.204660        972.918932      773.580485    45.662136   \n",
              "std            5.973841         77.753954       80.175980    63.169912   \n",
              "min            0.000000        801.000000      594.000000     1.000000   \n",
              "25%            0.000000        932.000000      730.950000     7.000000   \n",
              "50%            6.400000        968.000000      779.500000    28.000000   \n",
              "75%           10.200000       1029.400000      824.000000    56.000000   \n",
              "max           32.200000       1145.000000      992.600000   365.000000   \n",
              "\n",
              "          Strength  \n",
              "count  1030.000000  \n",
              "mean     35.817961  \n",
              "std      16.705742  \n",
              "min       2.330000  \n",
              "25%      23.710000  \n",
              "50%      34.445000  \n",
              "75%      46.135000  \n",
              "max      82.600000  "
            ]
          },
          "execution_count": 17,
          "metadata": {},
          "output_type": "execute_result"
        }
      ],
      "source": [
        "cement.describe()"
      ]
    },
    {
      "cell_type": "code",
      "execution_count": null,
      "id": "4a8cf734-d180-46e2-bd15-551521c9cb1b",
      "metadata": {
        "id": "4a8cf734-d180-46e2-bd15-551521c9cb1b",
        "outputId": "680e7983-7387-4bc6-d374-bd5d88aec35e"
      },
      "outputs": [
        {
          "data": {
            "text/plain": [
              "(1030, 9)"
            ]
          },
          "execution_count": 18,
          "metadata": {},
          "output_type": "execute_result"
        }
      ],
      "source": [
        "cement.shape"
      ]
    },
    {
      "cell_type": "code",
      "execution_count": null,
      "id": "12000542-743a-427b-8a6d-2be349f0a7d8",
      "metadata": {
        "id": "12000542-743a-427b-8a6d-2be349f0a7d8",
        "outputId": "cd88f22a-f4a2-459d-d796-051cb539a9ff"
      },
      "outputs": [
        {
          "data": {
            "text/plain": [
              "Cement                0\n",
              "Blast Furnace Slag    0\n",
              "Fly Ash               0\n",
              "Water                 0\n",
              "Superplasticizer      0\n",
              "Coarse Aggregate      0\n",
              "Fine Aggregate        0\n",
              "Age                   0\n",
              "Strength              0\n",
              "dtype: int64"
            ]
          },
          "execution_count": 20,
          "metadata": {},
          "output_type": "execute_result"
        }
      ],
      "source": [
        "cement.isnull().sum()"
      ]
    },
    {
      "cell_type": "code",
      "execution_count": null,
      "id": "ef9def07-9bc1-4350-9a8f-799612e255ff",
      "metadata": {
        "id": "ef9def07-9bc1-4350-9a8f-799612e255ff",
        "outputId": "7c595c16-df42-4c1f-b834-7a98804fb3fc"
      },
      "outputs": [
        {
          "data": {
            "text/plain": [
              "0    79.99\n",
              "1    61.89\n",
              "2    40.27\n",
              "3    41.05\n",
              "4    44.30\n",
              "Name: Strength, dtype: float64"
            ]
          },
          "execution_count": 26,
          "metadata": {},
          "output_type": "execute_result"
        }
      ],
      "source": [
        "target = cement['Strength']\n",
        "target.head()"
      ]
    },
    {
      "cell_type": "code",
      "execution_count": null,
      "id": "25e5ca60-1beb-490d-9b77-0ea3bd7ac9a9",
      "metadata": {
        "id": "25e5ca60-1beb-490d-9b77-0ea3bd7ac9a9"
      },
      "outputs": [],
      "source": [
        "pred = cement.iloc[:,:-1]"
      ]
    },
    {
      "cell_type": "code",
      "execution_count": null,
      "id": "947ba01b-b39c-43ca-a68d-323d32d1c415",
      "metadata": {
        "id": "947ba01b-b39c-43ca-a68d-323d32d1c415",
        "outputId": "140dd712-a3ab-425e-c6e9-c8b1bc5c08a6"
      },
      "outputs": [
        {
          "data": {
            "text/html": [
              "<div>\n",
              "<style scoped>\n",
              "    .dataframe tbody tr th:only-of-type {\n",
              "        vertical-align: middle;\n",
              "    }\n",
              "\n",
              "    .dataframe tbody tr th {\n",
              "        vertical-align: top;\n",
              "    }\n",
              "\n",
              "    .dataframe thead th {\n",
              "        text-align: right;\n",
              "    }\n",
              "</style>\n",
              "<table border=\"1\" class=\"dataframe\">\n",
              "  <thead>\n",
              "    <tr style=\"text-align: right;\">\n",
              "      <th></th>\n",
              "      <th>Cement</th>\n",
              "      <th>Blast Furnace Slag</th>\n",
              "      <th>Fly Ash</th>\n",
              "      <th>Water</th>\n",
              "      <th>Superplasticizer</th>\n",
              "      <th>Coarse Aggregate</th>\n",
              "      <th>Fine Aggregate</th>\n",
              "      <th>Age</th>\n",
              "    </tr>\n",
              "  </thead>\n",
              "  <tbody>\n",
              "    <tr>\n",
              "      <th>0</th>\n",
              "      <td>540.0</td>\n",
              "      <td>0.0</td>\n",
              "      <td>0.0</td>\n",
              "      <td>162.0</td>\n",
              "      <td>2.5</td>\n",
              "      <td>1040.0</td>\n",
              "      <td>676.0</td>\n",
              "      <td>28</td>\n",
              "    </tr>\n",
              "    <tr>\n",
              "      <th>1</th>\n",
              "      <td>540.0</td>\n",
              "      <td>0.0</td>\n",
              "      <td>0.0</td>\n",
              "      <td>162.0</td>\n",
              "      <td>2.5</td>\n",
              "      <td>1055.0</td>\n",
              "      <td>676.0</td>\n",
              "      <td>28</td>\n",
              "    </tr>\n",
              "    <tr>\n",
              "      <th>2</th>\n",
              "      <td>332.5</td>\n",
              "      <td>142.5</td>\n",
              "      <td>0.0</td>\n",
              "      <td>228.0</td>\n",
              "      <td>0.0</td>\n",
              "      <td>932.0</td>\n",
              "      <td>594.0</td>\n",
              "      <td>270</td>\n",
              "    </tr>\n",
              "    <tr>\n",
              "      <th>3</th>\n",
              "      <td>332.5</td>\n",
              "      <td>142.5</td>\n",
              "      <td>0.0</td>\n",
              "      <td>228.0</td>\n",
              "      <td>0.0</td>\n",
              "      <td>932.0</td>\n",
              "      <td>594.0</td>\n",
              "      <td>365</td>\n",
              "    </tr>\n",
              "    <tr>\n",
              "      <th>4</th>\n",
              "      <td>198.6</td>\n",
              "      <td>132.4</td>\n",
              "      <td>0.0</td>\n",
              "      <td>192.0</td>\n",
              "      <td>0.0</td>\n",
              "      <td>978.4</td>\n",
              "      <td>825.5</td>\n",
              "      <td>360</td>\n",
              "    </tr>\n",
              "  </tbody>\n",
              "</table>\n",
              "</div>"
            ],
            "text/plain": [
              "   Cement  Blast Furnace Slag  Fly Ash  Water  Superplasticizer  \\\n",
              "0   540.0                 0.0      0.0  162.0               2.5   \n",
              "1   540.0                 0.0      0.0  162.0               2.5   \n",
              "2   332.5               142.5      0.0  228.0               0.0   \n",
              "3   332.5               142.5      0.0  228.0               0.0   \n",
              "4   198.6               132.4      0.0  192.0               0.0   \n",
              "\n",
              "   Coarse Aggregate  Fine Aggregate  Age  \n",
              "0            1040.0           676.0   28  \n",
              "1            1055.0           676.0   28  \n",
              "2             932.0           594.0  270  \n",
              "3             932.0           594.0  365  \n",
              "4             978.4           825.5  360  "
            ]
          },
          "execution_count": 25,
          "metadata": {},
          "output_type": "execute_result"
        }
      ],
      "source": [
        "pred.head()"
      ]
    },
    {
      "cell_type": "code",
      "execution_count": null,
      "id": "b78ff742-19a5-44c3-b61c-e30cf4978b81",
      "metadata": {
        "id": "b78ff742-19a5-44c3-b61c-e30cf4978b81"
      },
      "outputs": [],
      "source": [
        "n_cols = pred.shape[1]\n",
        "def regression_model():\n",
        "    model = Sequential()\n",
        "    model.add(Dense(10, activation='relu', input_shape=(n_cols,)))\n",
        "    model.add(Dense(1))\n",
        "\n",
        "    model.compile(optimizer='adam', loss='mean_squared_error')\n",
        "    return model"
      ]
    },
    {
      "cell_type": "code",
      "execution_count": null,
      "id": "5949c3cb-fa4d-4452-8aed-0ec66f3b50b9",
      "metadata": {
        "id": "5949c3cb-fa4d-4452-8aed-0ec66f3b50b9"
      },
      "outputs": [],
      "source": [
        "model = regression_model()"
      ]
    },
    {
      "cell_type": "code",
      "execution_count": null,
      "id": "88afc689-40df-4c22-adce-eade1d7664d7",
      "metadata": {
        "id": "88afc689-40df-4c22-adce-eade1d7664d7",
        "outputId": "c5a56413-6592-4062-fa00-eccbc90dbec8"
      },
      "outputs": [
        {
          "name": "stdout",
          "output_type": "stream",
          "text": [
            "Cycle #1: mean_squared_error 123.86278533935547\n",
            "Cycle #2: mean_squared_error 83.03329467773438\n",
            "Cycle #3: mean_squared_error 54.16484069824219\n",
            "Cycle #4: mean_squared_error 69.08724212646484\n",
            "Cycle #5: mean_squared_error 60.60270690917969\n",
            "Cycle #6: mean_squared_error 52.22769546508789\n",
            "Cycle #7: mean_squared_error 53.810997009277344\n",
            "Cycle #8: mean_squared_error 61.262447357177734\n",
            "Cycle #9: mean_squared_error 51.89817428588867\n",
            "Cycle #10: mean_squared_error 46.915035247802734\n",
            "Cycle #11: mean_squared_error 57.252166748046875\n",
            "Cycle #12: mean_squared_error 55.38447570800781\n",
            "Cycle #13: mean_squared_error 56.07823181152344\n",
            "Cycle #14: mean_squared_error 59.39524459838867\n",
            "Cycle #15: mean_squared_error 49.306495666503906\n",
            "Cycle #16: mean_squared_error 57.959938049316406\n",
            "Cycle #17: mean_squared_error 41.24239730834961\n",
            "Cycle #18: mean_squared_error 52.1506462097168\n",
            "Cycle #19: mean_squared_error 46.703678131103516\n",
            "Cycle #20: mean_squared_error 54.619842529296875\n",
            "Cycle #21: mean_squared_error 51.93764114379883\n",
            "Cycle #22: mean_squared_error 42.48389434814453\n",
            "Cycle #23: mean_squared_error 50.85624694824219\n",
            "Cycle #24: mean_squared_error 43.072364807128906\n",
            "Cycle #25: mean_squared_error 55.45711898803711\n",
            "Cycle #26: mean_squared_error 50.90973663330078\n",
            "Cycle #27: mean_squared_error 51.21044921875\n",
            "Cycle #28: mean_squared_error 53.949283599853516\n",
            "Cycle #29: mean_squared_error 45.05284118652344\n",
            "Cycle #30: mean_squared_error 47.24039077758789\n",
            "Cycle #31: mean_squared_error 52.8538932800293\n",
            "Cycle #32: mean_squared_error 49.00969314575195\n",
            "Cycle #33: mean_squared_error 50.04673385620117\n",
            "Cycle #34: mean_squared_error 62.515499114990234\n",
            "Cycle #35: mean_squared_error 55.83889389038086\n",
            "Cycle #36: mean_squared_error 60.11689758300781\n",
            "Cycle #37: mean_squared_error 44.959686279296875\n",
            "Cycle #38: mean_squared_error 41.75441360473633\n",
            "Cycle #39: mean_squared_error 54.44932556152344\n",
            "Cycle #40: mean_squared_error 47.350379943847656\n",
            "Cycle #41: mean_squared_error 51.486724853515625\n",
            "Cycle #42: mean_squared_error 59.55266571044922\n",
            "Cycle #43: mean_squared_error 50.21746063232422\n",
            "Cycle #44: mean_squared_error 45.532379150390625\n",
            "Cycle #45: mean_squared_error 45.076568603515625\n",
            "Cycle #46: mean_squared_error 42.34877014160156\n",
            "Cycle #47: mean_squared_error 49.2066535949707\n",
            "Cycle #48: mean_squared_error 44.11491012573242\n",
            "Cycle #49: mean_squared_error 53.53462600708008\n",
            "Cycle #50: mean_squared_error 52.470909118652344\n"
          ]
        }
      ],
      "source": [
        "list_of_mean_squared_error = []\n",
        "for cycle in range(50):\n",
        "    #Randomly split the data into a training set (70%) and a test set (30%):\n",
        "    X_train, X_test, y_train, y_test = train_test_split(pred, target, test_size=0.3)\n",
        "    #Train and test the model at the same time\n",
        "    res = model.fit(X_train, y_train, epochs=50, verbose=0, validation_data=(X_test, y_test))\n",
        "    #Find mean_squared_error as last value in history.\n",
        "    mean_squared_error = res.history['val_loss'][-1]\n",
        "    #Add value of mean_squared_error for every cycle in list.\n",
        "    list_of_mean_squared_error.append(mean_squared_error)\n",
        "    print('Cycle #{}: mean_squared_error {}'.format(cycle+1, mean_squared_error))"
      ]
    },
    {
      "cell_type": "code",
      "execution_count": null,
      "id": "433e3cdf-a3d7-43f1-bedd-1e41d4243940",
      "metadata": {
        "id": "433e3cdf-a3d7-43f1-bedd-1e41d4243940",
        "outputId": "4e5cc7fa-3c60-42dc-8027-579af3624ca8"
      },
      "outputs": [
        {
          "name": "stdout",
          "output_type": "stream",
          "text": [
            "The mean of the mean squared errors: 53.8313077545166\n",
            "The standard deviation of the mean squared errors: 12.41929075736586\n"
          ]
        }
      ],
      "source": [
        "print('The mean of the mean squared errors: {}'.format(np.mean(list_of_mean_squared_error)))\n",
        "print('The standard deviation of the mean squared errors: {}'.format(np.std(list_of_mean_squared_error)))"
      ]
    },
    {
      "cell_type": "code",
      "execution_count": null,
      "id": "5142883f-5cd0-4b25-9180-057438687148",
      "metadata": {
        "id": "5142883f-5cd0-4b25-9180-057438687148",
        "outputId": "738c0b7b-ee5c-4778-ca26-35ad3d7d7d4a"
      },
      "outputs": [
        {
          "data": {
            "text/html": [
              "<div>\n",
              "<style scoped>\n",
              "    .dataframe tbody tr th:only-of-type {\n",
              "        vertical-align: middle;\n",
              "    }\n",
              "\n",
              "    .dataframe tbody tr th {\n",
              "        vertical-align: top;\n",
              "    }\n",
              "\n",
              "    .dataframe thead th {\n",
              "        text-align: right;\n",
              "    }\n",
              "</style>\n",
              "<table border=\"1\" class=\"dataframe\">\n",
              "  <thead>\n",
              "    <tr style=\"text-align: right;\">\n",
              "      <th></th>\n",
              "      <th>Cement</th>\n",
              "      <th>Blast Furnace Slag</th>\n",
              "      <th>Fly Ash</th>\n",
              "      <th>Water</th>\n",
              "      <th>Superplasticizer</th>\n",
              "      <th>Coarse Aggregate</th>\n",
              "      <th>Fine Aggregate</th>\n",
              "      <th>Age</th>\n",
              "    </tr>\n",
              "  </thead>\n",
              "  <tbody>\n",
              "    <tr>\n",
              "      <th>0</th>\n",
              "      <td>2.476712</td>\n",
              "      <td>-0.856472</td>\n",
              "      <td>-0.846733</td>\n",
              "      <td>-0.916319</td>\n",
              "      <td>-0.620147</td>\n",
              "      <td>0.862735</td>\n",
              "      <td>-1.217079</td>\n",
              "      <td>-0.279597</td>\n",
              "    </tr>\n",
              "    <tr>\n",
              "      <th>1</th>\n",
              "      <td>2.476712</td>\n",
              "      <td>-0.856472</td>\n",
              "      <td>-0.846733</td>\n",
              "      <td>-0.916319</td>\n",
              "      <td>-0.620147</td>\n",
              "      <td>1.055651</td>\n",
              "      <td>-1.217079</td>\n",
              "      <td>-0.279597</td>\n",
              "    </tr>\n",
              "    <tr>\n",
              "      <th>2</th>\n",
              "      <td>0.491187</td>\n",
              "      <td>0.795140</td>\n",
              "      <td>-0.846733</td>\n",
              "      <td>2.174405</td>\n",
              "      <td>-1.038638</td>\n",
              "      <td>-0.526262</td>\n",
              "      <td>-2.239829</td>\n",
              "      <td>3.551340</td>\n",
              "    </tr>\n",
              "    <tr>\n",
              "      <th>3</th>\n",
              "      <td>0.491187</td>\n",
              "      <td>0.795140</td>\n",
              "      <td>-0.846733</td>\n",
              "      <td>2.174405</td>\n",
              "      <td>-1.038638</td>\n",
              "      <td>-0.526262</td>\n",
              "      <td>-2.239829</td>\n",
              "      <td>5.055221</td>\n",
              "    </tr>\n",
              "    <tr>\n",
              "      <th>4</th>\n",
              "      <td>-0.790075</td>\n",
              "      <td>0.678079</td>\n",
              "      <td>-0.846733</td>\n",
              "      <td>0.488555</td>\n",
              "      <td>-1.038638</td>\n",
              "      <td>0.070492</td>\n",
              "      <td>0.647569</td>\n",
              "      <td>4.976069</td>\n",
              "    </tr>\n",
              "    <tr>\n",
              "      <th>5</th>\n",
              "      <td>-0.145138</td>\n",
              "      <td>0.464818</td>\n",
              "      <td>-0.846733</td>\n",
              "      <td>2.174405</td>\n",
              "      <td>-1.038638</td>\n",
              "      <td>-0.526262</td>\n",
              "      <td>-1.291914</td>\n",
              "      <td>0.701883</td>\n",
              "    </tr>\n",
              "    <tr>\n",
              "      <th>6</th>\n",
              "      <td>0.945704</td>\n",
              "      <td>0.244603</td>\n",
              "      <td>-0.846733</td>\n",
              "      <td>2.174405</td>\n",
              "      <td>-1.038638</td>\n",
              "      <td>-0.526262</td>\n",
              "      <td>-2.239829</td>\n",
              "      <td>5.055221</td>\n",
              "    </tr>\n",
              "    <tr>\n",
              "      <th>7</th>\n",
              "      <td>0.945704</td>\n",
              "      <td>0.244603</td>\n",
              "      <td>-0.846733</td>\n",
              "      <td>2.174405</td>\n",
              "      <td>-1.038638</td>\n",
              "      <td>-0.526262</td>\n",
              "      <td>-2.239829</td>\n",
              "      <td>-0.279597</td>\n",
              "    </tr>\n",
              "    <tr>\n",
              "      <th>8</th>\n",
              "      <td>-0.145138</td>\n",
              "      <td>0.464818</td>\n",
              "      <td>-0.846733</td>\n",
              "      <td>2.174405</td>\n",
              "      <td>-1.038638</td>\n",
              "      <td>-0.526262</td>\n",
              "      <td>-1.291914</td>\n",
              "      <td>-0.279597</td>\n",
              "    </tr>\n",
              "    <tr>\n",
              "      <th>9</th>\n",
              "      <td>1.854740</td>\n",
              "      <td>-0.856472</td>\n",
              "      <td>-0.846733</td>\n",
              "      <td>2.174405</td>\n",
              "      <td>-1.038638</td>\n",
              "      <td>-0.526262</td>\n",
              "      <td>-2.239829</td>\n",
              "      <td>-0.279597</td>\n",
              "    </tr>\n",
              "  </tbody>\n",
              "</table>\n",
              "</div>"
            ],
            "text/plain": [
              "     Cement  Blast Furnace Slag   Fly Ash     Water  Superplasticizer  \\\n",
              "0  2.476712           -0.856472 -0.846733 -0.916319         -0.620147   \n",
              "1  2.476712           -0.856472 -0.846733 -0.916319         -0.620147   \n",
              "2  0.491187            0.795140 -0.846733  2.174405         -1.038638   \n",
              "3  0.491187            0.795140 -0.846733  2.174405         -1.038638   \n",
              "4 -0.790075            0.678079 -0.846733  0.488555         -1.038638   \n",
              "5 -0.145138            0.464818 -0.846733  2.174405         -1.038638   \n",
              "6  0.945704            0.244603 -0.846733  2.174405         -1.038638   \n",
              "7  0.945704            0.244603 -0.846733  2.174405         -1.038638   \n",
              "8 -0.145138            0.464818 -0.846733  2.174405         -1.038638   \n",
              "9  1.854740           -0.856472 -0.846733  2.174405         -1.038638   \n",
              "\n",
              "   Coarse Aggregate  Fine Aggregate       Age  \n",
              "0          0.862735       -1.217079 -0.279597  \n",
              "1          1.055651       -1.217079 -0.279597  \n",
              "2         -0.526262       -2.239829  3.551340  \n",
              "3         -0.526262       -2.239829  5.055221  \n",
              "4          0.070492        0.647569  4.976069  \n",
              "5         -0.526262       -1.291914  0.701883  \n",
              "6         -0.526262       -2.239829  5.055221  \n",
              "7         -0.526262       -2.239829 -0.279597  \n",
              "8         -0.526262       -1.291914 -0.279597  \n",
              "9         -0.526262       -2.239829 -0.279597  "
            ]
          },
          "execution_count": 31,
          "metadata": {},
          "output_type": "execute_result"
        }
      ],
      "source": [
        "predictors_norm = (pred - pred.mean())/pred.std()\n",
        "predictors_norm.head(10)"
      ]
    },
    {
      "cell_type": "code",
      "execution_count": null,
      "id": "7553d362-58b6-4dc8-9a1b-4741e9741646",
      "metadata": {
        "id": "7553d362-58b6-4dc8-9a1b-4741e9741646"
      },
      "outputs": [],
      "source": [
        "n_cols = predictors_norm.shape[1]\n",
        "def regression_model2():\n",
        "    model2 = Sequential()\n",
        "    model2.add(Dense(10, activation='relu', input_shape=(n_cols,)))\n",
        "    model2.add(Dense(1))\n",
        "\n",
        "    model2.compile(optimizer='adam', loss='mean_squared_error')\n",
        "    return model2\n",
        "\n",
        "model2 = regression_model2()"
      ]
    },
    {
      "cell_type": "code",
      "execution_count": null,
      "id": "6e7c37ff-9de6-402c-addc-366de4d82ee2",
      "metadata": {
        "id": "6e7c37ff-9de6-402c-addc-366de4d82ee2",
        "outputId": "fb09b522-1736-4045-c531-015205278905"
      },
      "outputs": [
        {
          "name": "stdout",
          "output_type": "stream",
          "text": [
            "Cycle #1: mean_squared_error 380.1392517089844\n",
            "Cycle #2: mean_squared_error 163.44044494628906\n",
            "Cycle #3: mean_squared_error 121.25218963623047\n",
            "Cycle #4: mean_squared_error 82.42639923095703\n",
            "Cycle #5: mean_squared_error 69.27420043945312\n",
            "Cycle #6: mean_squared_error 47.80434799194336\n",
            "Cycle #7: mean_squared_error 45.92818069458008\n",
            "Cycle #8: mean_squared_error 40.257442474365234\n",
            "Cycle #9: mean_squared_error 45.655582427978516\n",
            "Cycle #10: mean_squared_error 41.88328552246094\n",
            "Cycle #11: mean_squared_error 39.6466064453125\n",
            "Cycle #12: mean_squared_error 36.107086181640625\n",
            "Cycle #13: mean_squared_error 41.12069320678711\n",
            "Cycle #14: mean_squared_error 40.79736328125\n",
            "Cycle #15: mean_squared_error 33.4576530456543\n",
            "Cycle #16: mean_squared_error 32.05221939086914\n",
            "Cycle #17: mean_squared_error 36.24374771118164\n",
            "Cycle #18: mean_squared_error 34.299556732177734\n",
            "Cycle #19: mean_squared_error 36.47052764892578\n",
            "Cycle #20: mean_squared_error 40.47662353515625\n",
            "Cycle #21: mean_squared_error 33.007755279541016\n",
            "Cycle #22: mean_squared_error 33.62961959838867\n",
            "Cycle #23: mean_squared_error 37.261741638183594\n",
            "Cycle #24: mean_squared_error 36.22189712524414\n",
            "Cycle #25: mean_squared_error 31.457820892333984\n",
            "Cycle #26: mean_squared_error 31.668354034423828\n",
            "Cycle #27: mean_squared_error 31.30040168762207\n",
            "Cycle #28: mean_squared_error 38.094451904296875\n",
            "Cycle #29: mean_squared_error 33.648406982421875\n",
            "Cycle #30: mean_squared_error 32.490333557128906\n",
            "Cycle #31: mean_squared_error 36.08497619628906\n",
            "Cycle #32: mean_squared_error 36.867305755615234\n",
            "Cycle #33: mean_squared_error 39.01270294189453\n",
            "Cycle #34: mean_squared_error 36.85686111450195\n",
            "Cycle #35: mean_squared_error 32.93360900878906\n",
            "Cycle #36: mean_squared_error 28.125951766967773\n",
            "Cycle #37: mean_squared_error 31.307668685913086\n",
            "Cycle #38: mean_squared_error 32.778804779052734\n",
            "Cycle #39: mean_squared_error 37.132225036621094\n",
            "Cycle #40: mean_squared_error 32.17440414428711\n",
            "Cycle #41: mean_squared_error 33.788883209228516\n",
            "Cycle #42: mean_squared_error 33.30908203125\n",
            "Cycle #43: mean_squared_error 30.041587829589844\n",
            "Cycle #44: mean_squared_error 35.923648834228516\n",
            "Cycle #45: mean_squared_error 32.55593490600586\n",
            "Cycle #46: mean_squared_error 27.304140090942383\n",
            "Cycle #47: mean_squared_error 35.48128890991211\n",
            "Cycle #48: mean_squared_error 31.592918395996094\n",
            "Cycle #49: mean_squared_error 31.014619827270508\n",
            "Cycle #50: mean_squared_error 32.71632385253906\n"
          ]
        }
      ],
      "source": [
        "list_of_mean_squared_error = []\n",
        "for cycle in range(50):\n",
        "    #Randomly split the data into a training set (70%) and a test set (30%):\n",
        "    X_train, X_test, y_train, y_test = train_test_split(predictors_norm, target, test_size=0.3)\n",
        "    #Train and test the model at the same time\n",
        "    res = model2.fit(X_train, y_train, epochs=50, verbose=0, validation_data=(X_test, y_test))\n",
        "    #Find mean_squared_error as last value in history.\n",
        "    mean_squared_error = res.history['val_loss'][-1]\n",
        "    #Add value of mean_squared_error for every cycle in list.\n",
        "    list_of_mean_squared_error.append(mean_squared_error)\n",
        "    print('Cycle #{}: mean_squared_error {}'.format(cycle+1, mean_squared_error))"
      ]
    },
    {
      "cell_type": "code",
      "execution_count": null,
      "id": "6016cbcb-e91c-4d70-bb64-fcb1f1864a2b",
      "metadata": {
        "id": "6016cbcb-e91c-4d70-bb64-fcb1f1864a2b",
        "outputId": "d41e537b-2ae0-4aa5-84b5-1ed61cd01ee1"
      },
      "outputs": [
        {
          "name": "stdout",
          "output_type": "stream",
          "text": [
            "The mean of the mean squared errors: 48.29034244537353\n",
            "The standard deviation of the mean squared errors: 52.64278314373271\n"
          ]
        }
      ],
      "source": [
        "print('The mean of the mean squared errors: {}'.format(np.mean(list_of_mean_squared_error)))\n",
        "print('The standard deviation of the mean squared errors: {}'.format(np.std(list_of_mean_squared_error)))"
      ]
    },
    {
      "cell_type": "code",
      "execution_count": null,
      "id": "28e4664c-aba4-4eec-bb29-7938cdd26324",
      "metadata": {
        "id": "28e4664c-aba4-4eec-bb29-7938cdd26324"
      },
      "outputs": [],
      "source": [
        "def regression_model3():\n",
        "    model3 = Sequential()\n",
        "    model3.add(Dense(10, activation='relu', input_shape=(n_cols,)))\n",
        "    model3.add(Dense(1))\n",
        "\n",
        "    model3.compile(optimizer='adam', loss='mean_squared_error')\n",
        "    return model3\n",
        "\n",
        "model3 = regression_model3()"
      ]
    },
    {
      "cell_type": "code",
      "execution_count": null,
      "id": "4e6027c6-8913-4f07-a97b-e5c98e2cdf34",
      "metadata": {
        "id": "4e6027c6-8913-4f07-a97b-e5c98e2cdf34",
        "outputId": "222e1400-7139-40aa-9a47-9841ba4caba1"
      },
      "outputs": [
        {
          "name": "stdout",
          "output_type": "stream",
          "text": [
            "Cycle #1: mean_squared_error 169.26004028320312\n",
            "Cycle #2: mean_squared_error 82.73287963867188\n",
            "Cycle #3: mean_squared_error 52.86707305908203\n",
            "Cycle #4: mean_squared_error 39.66597366333008\n",
            "Cycle #5: mean_squared_error 41.058921813964844\n",
            "Cycle #6: mean_squared_error 36.20993423461914\n",
            "Cycle #7: mean_squared_error 36.1316032409668\n",
            "Cycle #8: mean_squared_error 37.443092346191406\n",
            "Cycle #9: mean_squared_error 38.94364929199219\n",
            "Cycle #10: mean_squared_error 36.66283416748047\n",
            "Cycle #11: mean_squared_error 33.32709503173828\n",
            "Cycle #12: mean_squared_error 40.567230224609375\n",
            "Cycle #13: mean_squared_error 32.24759292602539\n",
            "Cycle #14: mean_squared_error 37.07353591918945\n",
            "Cycle #15: mean_squared_error 36.18586730957031\n",
            "Cycle #16: mean_squared_error 35.739742279052734\n",
            "Cycle #17: mean_squared_error 36.972896575927734\n",
            "Cycle #18: mean_squared_error 37.209190368652344\n",
            "Cycle #19: mean_squared_error 42.61969757080078\n",
            "Cycle #20: mean_squared_error 34.35700225830078\n",
            "Cycle #21: mean_squared_error 34.31846618652344\n",
            "Cycle #22: mean_squared_error 41.801307678222656\n",
            "Cycle #23: mean_squared_error 38.082942962646484\n",
            "Cycle #24: mean_squared_error 30.796850204467773\n",
            "Cycle #25: mean_squared_error 34.49612808227539\n",
            "Cycle #26: mean_squared_error 36.91851043701172\n",
            "Cycle #27: mean_squared_error 30.585397720336914\n",
            "Cycle #28: mean_squared_error 34.01001739501953\n",
            "Cycle #29: mean_squared_error 34.23767852783203\n",
            "Cycle #30: mean_squared_error 30.38252830505371\n",
            "Cycle #31: mean_squared_error 33.91923904418945\n",
            "Cycle #32: mean_squared_error 37.17042922973633\n",
            "Cycle #33: mean_squared_error 35.907470703125\n",
            "Cycle #34: mean_squared_error 34.4719123840332\n",
            "Cycle #35: mean_squared_error 36.8482666015625\n",
            "Cycle #36: mean_squared_error 31.83310317993164\n",
            "Cycle #37: mean_squared_error 29.506757736206055\n",
            "Cycle #38: mean_squared_error 32.774330139160156\n",
            "Cycle #39: mean_squared_error 36.28849792480469\n",
            "Cycle #40: mean_squared_error 38.506813049316406\n",
            "Cycle #41: mean_squared_error 31.711341857910156\n",
            "Cycle #42: mean_squared_error 38.615753173828125\n",
            "Cycle #43: mean_squared_error 34.030975341796875\n",
            "Cycle #44: mean_squared_error 31.482330322265625\n",
            "Cycle #45: mean_squared_error 30.801088333129883\n",
            "Cycle #46: mean_squared_error 36.72734451293945\n",
            "Cycle #47: mean_squared_error 32.23384094238281\n",
            "Cycle #48: mean_squared_error 31.324607849121094\n",
            "Cycle #49: mean_squared_error 30.984020233154297\n",
            "Cycle #50: mean_squared_error 33.10087966918945\n"
          ]
        }
      ],
      "source": [
        "list_of_mean_squared_error = []\n",
        "for cycle in range(50):\n",
        "    #Randomly split the data into a training set (70%) and a test set (30%):\n",
        "    X_train, X_test, y_train, y_test = train_test_split(predictors_norm, target, test_size=0.3)\n",
        "    #Train and test the model at the same time\n",
        "    res = model3.fit(X_train, y_train, epochs=100, verbose=0, validation_data=(X_test, y_test))\n",
        "    #Find mean_squared_error as last value in history.\n",
        "    mean_squared_error = res.history['val_loss'][-1]\n",
        "    #Add value of mean_squared_error for every cycle in list.\n",
        "    list_of_mean_squared_error.append(mean_squared_error)\n",
        "    print('Cycle #{}: mean_squared_error {}'.format(cycle+1, mean_squared_error))"
      ]
    },
    {
      "cell_type": "code",
      "execution_count": null,
      "id": "ecbf269c-7ae6-44fa-900b-22195598da0e",
      "metadata": {
        "id": "ecbf269c-7ae6-44fa-900b-22195598da0e",
        "outputId": "0da95ff3-8c52-4719-ed84-bb6da16c7a56"
      },
      "outputs": [
        {
          "name": "stdout",
          "output_type": "stream",
          "text": [
            "The mean of the mean squared errors: 39.22289363861084\n",
            "The standard deviation of the mean squared errors: 20.10998803773742\n"
          ]
        }
      ],
      "source": [
        "print('The mean of the mean squared errors: {}'.format(np.mean(list_of_mean_squared_error)))\n",
        "print('The standard deviation of the mean squared errors: {}'.format(np.std(list_of_mean_squared_error)))"
      ]
    },
    {
      "cell_type": "code",
      "execution_count": null,
      "id": "3ca223c9-a98e-498a-a2d0-f9bbe00dcc2f",
      "metadata": {
        "id": "3ca223c9-a98e-498a-a2d0-f9bbe00dcc2f"
      },
      "outputs": [],
      "source": [
        "def regression_model4():\n",
        "    model4 = Sequential()\n",
        "    model4.add(Dense(10, activation='relu', input_shape=(n_cols,)))\n",
        "    model4.add(Dense(10, activation='relu'))\n",
        "    model4.add(Dense(10, activation='relu'))\n",
        "    model4.add(Dense(1))\n",
        "\n",
        "    model4.compile(optimizer='adam', loss='mean_squared_error')\n",
        "    return model4"
      ]
    },
    {
      "cell_type": "code",
      "execution_count": null,
      "id": "2fcea3e3-54af-4513-aab6-1cdbfa3a52a4",
      "metadata": {
        "id": "2fcea3e3-54af-4513-aab6-1cdbfa3a52a4"
      },
      "outputs": [],
      "source": [
        "model4 = regression_model4()"
      ]
    },
    {
      "cell_type": "code",
      "execution_count": null,
      "id": "f6e85c4c-f0c3-4a54-a99f-f6acc41fcf66",
      "metadata": {
        "id": "f6e85c4c-f0c3-4a54-a99f-f6acc41fcf66",
        "outputId": "bb5228a7-9b45-462b-91ad-2f8ff1e72558"
      },
      "outputs": [
        {
          "name": "stdout",
          "output_type": "stream",
          "text": [
            "Cycle #1: mean_squared_error 136.82579040527344\n",
            "Cycle #2: mean_squared_error 90.65181732177734\n",
            "Cycle #3: mean_squared_error 56.07067108154297\n",
            "Cycle #4: mean_squared_error 51.54973220825195\n",
            "Cycle #5: mean_squared_error 37.894466400146484\n",
            "Cycle #6: mean_squared_error 36.21450424194336\n",
            "Cycle #7: mean_squared_error 26.629785537719727\n",
            "Cycle #8: mean_squared_error 32.69593048095703\n",
            "Cycle #9: mean_squared_error 34.34852600097656\n",
            "Cycle #10: mean_squared_error 33.92000961303711\n",
            "Cycle #11: mean_squared_error 29.166610717773438\n",
            "Cycle #12: mean_squared_error 32.38135528564453\n",
            "Cycle #13: mean_squared_error 29.083730697631836\n",
            "Cycle #14: mean_squared_error 31.063812255859375\n",
            "Cycle #15: mean_squared_error 28.749582290649414\n",
            "Cycle #16: mean_squared_error 27.340927124023438\n",
            "Cycle #17: mean_squared_error 27.855607986450195\n",
            "Cycle #18: mean_squared_error 25.262643814086914\n",
            "Cycle #19: mean_squared_error 23.862525939941406\n",
            "Cycle #20: mean_squared_error 26.320749282836914\n",
            "Cycle #21: mean_squared_error 28.53543472290039\n",
            "Cycle #22: mean_squared_error 25.02520751953125\n",
            "Cycle #23: mean_squared_error 22.5394287109375\n",
            "Cycle #24: mean_squared_error 26.8929443359375\n",
            "Cycle #25: mean_squared_error 29.3486385345459\n",
            "Cycle #26: mean_squared_error 26.401473999023438\n",
            "Cycle #27: mean_squared_error 25.383663177490234\n",
            "Cycle #28: mean_squared_error 27.983322143554688\n",
            "Cycle #29: mean_squared_error 26.584524154663086\n",
            "Cycle #30: mean_squared_error 27.858230590820312\n",
            "Cycle #31: mean_squared_error 23.9506893157959\n",
            "Cycle #32: mean_squared_error 25.102415084838867\n",
            "Cycle #33: mean_squared_error 23.4512939453125\n",
            "Cycle #34: mean_squared_error 25.469371795654297\n",
            "Cycle #35: mean_squared_error 25.192691802978516\n",
            "Cycle #36: mean_squared_error 25.851957321166992\n",
            "Cycle #37: mean_squared_error 23.896472930908203\n",
            "Cycle #38: mean_squared_error 24.808578491210938\n",
            "Cycle #39: mean_squared_error 21.420387268066406\n",
            "Cycle #40: mean_squared_error 24.68134307861328\n",
            "Cycle #41: mean_squared_error 25.041284561157227\n",
            "Cycle #42: mean_squared_error 24.88433265686035\n",
            "Cycle #43: mean_squared_error 26.834543228149414\n",
            "Cycle #44: mean_squared_error 25.530128479003906\n",
            "Cycle #45: mean_squared_error 23.397781372070312\n",
            "Cycle #46: mean_squared_error 21.22694969177246\n",
            "Cycle #47: mean_squared_error 23.769996643066406\n",
            "Cycle #48: mean_squared_error 24.662199020385742\n",
            "Cycle #49: mean_squared_error 24.52350616455078\n",
            "Cycle #50: mean_squared_error 22.25225257873535\n"
          ]
        }
      ],
      "source": [
        "list_of_mean_squared_error = []\n",
        "for cycle in range(50):\n",
        "    #Randomly split the data into a training set (70%) and a test set (30%):\n",
        "    X_train, X_test, y_train, y_test = train_test_split(predictors_norm, target, test_size=0.3)\n",
        "    #Train and test the model at the same time\n",
        "    res = model4.fit(X_train, y_train, epochs=50, verbose=0, validation_data=(X_test, y_test))\n",
        "    #Find mean_squared_error as last value in history.\n",
        "    mean_squared_error = res.history['val_loss'][-1]\n",
        "    #Add value of mean_squared_error for every cycle in list.\n",
        "    list_of_mean_squared_error.append(mean_squared_error)\n",
        "    print('Cycle #{}: mean_squared_error {}'.format(cycle+1, mean_squared_error))"
      ]
    },
    {
      "cell_type": "code",
      "execution_count": null,
      "id": "833f33db-a5ba-415b-b54e-c158e818f347",
      "metadata": {
        "id": "833f33db-a5ba-415b-b54e-c158e818f347",
        "outputId": "f300670e-656e-40c7-eecf-a93186a11935"
      },
      "outputs": [
        {
          "name": "stdout",
          "output_type": "stream",
          "text": [
            "The mean of the mean squared errors: 31.40779644012451\n",
            "The standard deviation of the mean squared errors: 18.55839030103823\n"
          ]
        }
      ],
      "source": [
        "print('The mean of the mean squared errors: {}'.format(np.mean(list_of_mean_squared_error)))\n",
        "print('The standard deviation of the mean squared errors: {}'.format(np.std(list_of_mean_squared_error)))"
      ]
    },
    {
      "cell_type": "code",
      "execution_count": null,
      "id": "fb24c9be-f7bc-4b05-b87a-8d66148ab3d9",
      "metadata": {
        "id": "fb24c9be-f7bc-4b05-b87a-8d66148ab3d9"
      },
      "outputs": [],
      "source": []
    }
  ],
  "metadata": {
    "kernelspec": {
      "display_name": "Python 3 (ipykernel)",
      "language": "python",
      "name": "python3"
    },
    "language_info": {
      "codemirror_mode": {
        "name": "ipython",
        "version": 3
      },
      "file_extension": ".py",
      "mimetype": "text/x-python",
      "name": "python",
      "nbconvert_exporter": "python",
      "pygments_lexer": "ipython3",
      "version": "3.9.7"
    },
    "colab": {
      "provenance": [],
      "include_colab_link": true
    }
  },
  "nbformat": 4,
  "nbformat_minor": 5
}